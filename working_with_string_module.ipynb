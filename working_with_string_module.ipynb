{
 "cells": [
  {
   "cell_type": "markdown",
   "id": "ab768f94-121a-4e9e-92ef-18b1666e6c53",
   "metadata": {},
   "source": [
    "## Gen AI Lecture 1 : NLP Techniques | Data Cleaning"
   ]
  },
  {
   "cell_type": "code",
   "execution_count": 8,
   "id": "43b678e2-d913-472b-98d9-3cf059b49b44",
   "metadata": {},
   "outputs": [],
   "source": [
    "## Data Cleaning 1. string package and regex package, and csv package"
   ]
  },
  {
   "cell_type": "code",
   "execution_count": 12,
   "id": "42704fe5-e3b2-4e16-92b7-3af54a9880a2",
   "metadata": {},
   "outputs": [],
   "source": [
    "import string as s"
   ]
  },
  {
   "cell_type": "code",
   "execution_count": 15,
   "id": "90f9074f-17f7-4497-bbe5-d3e4fee83ad8",
   "metadata": {},
   "outputs": [
    {
     "name": "stdout",
     "output_type": "stream",
     "text": [
      "Lower case strings: abcdefghijklmnopqrstuvwxyz\n"
     ]
    }
   ],
   "source": [
    "print('Lower case strings:',s.ascii_lowercase)"
   ]
  },
  {
   "cell_type": "code",
   "execution_count": 19,
   "id": "996f1393-cffe-45d4-8f9c-8d18348053c7",
   "metadata": {},
   "outputs": [
    {
     "name": "stdout",
     "output_type": "stream",
     "text": [
      "Upper Case Strings: ABCDEFGHIJKLMNOPQRSTUVWXYZ\n",
      "Ascii Letters Strings: abcdefghijklmnopqrstuvwxyzABCDEFGHIJKLMNOPQRSTUVWXYZ\n",
      "Punctutation Strings,symbols: !\"#$%&'()*+,-./:;<=>?@[\\]^_`{|}~\n",
      "Digit Strings :  0123456789\n"
     ]
    }
   ],
   "source": [
    "print('Upper Case Strings:',s.ascii_uppercase)\n",
    "print('Ascii Letters Strings:',s.ascii_letters)\n",
    "print('Punctutation Strings,symbols:',s.punctuation)\n",
    "print('Digit Strings : ',s.digits)"
   ]
  },
  {
   "cell_type": "code",
   "execution_count": 27,
   "id": "4460c184-48de-4742-920e-7c0ec35810af",
   "metadata": {},
   "outputs": [
    {
     "name": "stdout",
     "output_type": "stream",
     "text": [
      "One Upon A Time We Use To Learn Python From Some Trainer\n"
     ]
    }
   ],
   "source": [
    "message = 'one upon a time we use to learn python from some trainer'\n",
    "print(s.capwords(message))"
   ]
  },
  {
   "cell_type": "code",
   "execution_count": 29,
   "id": "21532a1d-d8cf-426a-a3bd-73036cc8c296",
   "metadata": {},
   "outputs": [],
   "source": [
    "## Formatter and Template Class \n",
    "## Importance classes of string module\n",
    "from string import Formatter"
   ]
  },
  {
   "cell_type": "code",
   "execution_count": 35,
   "id": "2a6c251f-9bef-4e9d-9255-4e55f589937c",
   "metadata": {},
   "outputs": [
    {
     "name": "stdout",
     "output_type": "stream",
     "text": [
      "Hello, Mr Awnish,Your age is 26 \n"
     ]
    }
   ],
   "source": [
    "formatter = Formatter()\n",
    "name = 'Awnish'\n",
    "age = 26\n",
    "formate_string = formatter.format('Hello, Mr {},Your age is {} ',name,age)\n",
    "print(formate_string)"
   ]
  },
  {
   "cell_type": "code",
   "execution_count": 37,
   "id": "b5fae9b1-7e02-4ace-a704-c6ef331f2eeb",
   "metadata": {},
   "outputs": [
    {
     "name": "stdout",
     "output_type": "stream",
     "text": [
      "Hello Mr Awnish Your age is 26\n"
     ]
    }
   ],
   "source": [
    "print(f'Hello Mr {name} Your age is {age}')"
   ]
  },
  {
   "cell_type": "code",
   "execution_count": 41,
   "id": "3709d7e1-e330-498f-8b95-e328c7783f7a",
   "metadata": {},
   "outputs": [
    {
     "name": "stdout",
     "output_type": "stream",
     "text": [
      "Hello Mr Awnish Welcome to Python session\n"
     ]
    }
   ],
   "source": [
    "print('Hello Mr {} Welcome to {} session'.format('Awnish','Python')) # str.format()"
   ]
  },
  {
   "cell_type": "code",
   "execution_count": 45,
   "id": "ee72ffad-5fcc-4a75-b74b-783df0f6f3a5",
   "metadata": {},
   "outputs": [
    {
     "name": "stdout",
     "output_type": "stream",
     "text": [
      "Hello Mr Python Welcome to Awnish session\n"
     ]
    }
   ],
   "source": [
    "print('Hello Mr {1} Welcome to {0} session'.format('Awnish','Python')) # str.format() using index "
   ]
  },
  {
   "cell_type": "code",
   "execution_count": 47,
   "id": "bd651b8f-5eb8-4aa8-9ed9-8f3e3566f046",
   "metadata": {},
   "outputs": [
    {
     "name": "stdout",
     "output_type": "stream",
     "text": [
      "Hello Mr Java Welcome to chandan session\n"
     ]
    }
   ],
   "source": [
    "name = 'chandan'\n",
    "session = 'Java'\n",
    "print('Hello Mr {1} Welcome to {0} session'.format(name,session)) # str.format() using variable or keyword"
   ]
  },
  {
   "cell_type": "code",
   "execution_count": 49,
   "id": "629c7c32-8267-4e61-aa6e-b7a6e96c86c8",
   "metadata": {},
   "outputs": [
    {
     "name": "stdout",
     "output_type": "stream",
     "text": [
      "Hello Mr chandan Welcome to Java session\n"
     ]
    }
   ],
   "source": [
    "name = 'chandan'\n",
    "session = 'Java'\n",
    "print('Hello Mr {name} Welcome to {session} session'.format(session=session,name=name)) # str.format() using variable or keyword"
   ]
  },
  {
   "cell_type": "code",
   "execution_count": 51,
   "id": "b78ace7f-f088-4785-81ba-4a63aae65519",
   "metadata": {},
   "outputs": [],
   "source": [
    "## Use of Template Class  : It uses $ has a prefix Identifier."
   ]
  },
  {
   "cell_type": "code",
   "execution_count": 53,
   "id": "3985d70a-6870-4af1-bb89-b390d01df60c",
   "metadata": {},
   "outputs": [],
   "source": [
    "# 5 Best Use case of Template class in string module\n",
    "from string import Template"
   ]
  },
  {
   "cell_type": "code",
   "execution_count": 57,
   "id": "9e667555-ae2e-48ba-b06a-433a7a353d7c",
   "metadata": {},
   "outputs": [
    {
     "name": "stdout",
     "output_type": "stream",
     "text": [
      "Hello Awnish Kumar\n"
     ]
    }
   ],
   "source": [
    "tmp = Template('Hello $name') #Here you can create your own varible placeholder,Identifiers.\n",
    "parsed_string = tmp.substitute(name='Awnish Kumar')\n",
    "print(parsed_string)\n"
   ]
  },
  {
   "cell_type": "code",
   "execution_count": 63,
   "id": "8a520c35-18e8-4afc-bcc2-88abdd099abd",
   "metadata": {},
   "outputs": [],
   "source": [
    "email_message = \"Dear $customer, Your Order No: #$order_id has been Delivered.\""
   ]
  },
  {
   "cell_type": "code",
   "execution_count": 65,
   "id": "11139580-5382-4b46-8194-2d25db24f7c3",
   "metadata": {},
   "outputs": [
    {
     "name": "stdout",
     "output_type": "stream",
     "text": [
      "Dear Pawan Kumar, Your Order No: #ORD718181710 has been Delivered.\n"
     ]
    }
   ],
   "source": [
    "t = Template(email_message)\n",
    "parsed_message = t.substitute(customer='Pawan Kumar',order_id='ORD718181710')\n",
    "print(parsed_message)"
   ]
  },
  {
   "cell_type": "code",
   "execution_count": 67,
   "id": "bb4e155a-d209-4cf3-90b4-f0a29c9bc50e",
   "metadata": {},
   "outputs": [
    {
     "name": "stdout",
     "output_type": "stream",
     "text": [
      "\n",
      "192.168.10.01\n",
      "host=localhost\n",
      "port=8888\n",
      "user=admin\n",
      "password=123456\n",
      "\n"
     ]
    }
   ],
   "source": [
    "## use of Template to Make dbconnections \n",
    "t = Template('''\n",
    "192.168.10.01\n",
    "host=$host\n",
    "port=$port\n",
    "user=$user\n",
    "password=$password\n",
    "''')\n",
    "\n",
    "config = {'host':'localhost','port':8888,'user':'admin','password':123456}\n",
    "print(t.substitute(config))\n",
    "\n",
    "\n"
   ]
  },
  {
   "cell_type": "code",
   "execution_count": null,
   "id": "32f38327-37e4-4b39-bdcf-c1b9072d8fa7",
   "metadata": {},
   "outputs": [],
   "source": []
  }
 ],
 "metadata": {
  "kernelspec": {
   "display_name": "Python [conda env:base] *",
   "language": "python",
   "name": "conda-base-py"
  },
  "language_info": {
   "codemirror_mode": {
    "name": "ipython",
    "version": 3
   },
   "file_extension": ".py",
   "mimetype": "text/x-python",
   "name": "python",
   "nbconvert_exporter": "python",
   "pygments_lexer": "ipython3",
   "version": "3.12.7"
  }
 },
 "nbformat": 4,
 "nbformat_minor": 5
}
